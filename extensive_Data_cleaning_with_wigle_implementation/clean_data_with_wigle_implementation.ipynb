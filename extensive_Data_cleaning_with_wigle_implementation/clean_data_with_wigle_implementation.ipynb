{
 "cells": [
  {
   "cell_type": "markdown",
   "metadata": {},
   "source": [
    "# Name Resolution"
   ]
  },
  {
   "cell_type": "code",
   "execution_count": 1,
   "metadata": {
    "collapsed": false
   },
   "outputs": [],
   "source": [
    "import nltk\n",
    "from nameparser.parser import HumanName\n"
   ]
  },
  {
   "cell_type": "code",
   "execution_count": 2,
   "metadata": {
    "collapsed": true
   },
   "outputs": [],
   "source": [
    "import logging\n",
    "import os\n",
    "import glob2\n",
    "from nltk.corpus import stopwords\n",
    "from nltk.tokenize import wordpunct_tokenize\n",
    "import nltk\n",
    "import re\n",
    "stop_words = set(stopwords.words('english'))\n",
    "stop_words.update(['.', ',', '\"', \"'\", '?', '!', ':', ';', '(', ')',\n",
    "                   '[', ']', '{', '}','%','&','+','$','@','~','-','_','://','--','[]','`']) # remove it if you need punctuation \n",
    "from nltk.tokenize import RegexpTokenizer\n",
    "from datetime import datetime"
   ]
  },
  {
   "cell_type": "code",
   "execution_count": 3,
   "metadata": {
    "collapsed": false
   },
   "outputs": [
    {
     "name": "stdout",
     "output_type": "stream",
     "text": [
      "E:\\task\n"
     ]
    }
   ],
   "source": [
    "cd E:\\task"
   ]
  },
  {
   "cell_type": "code",
   "execution_count": 4,
   "metadata": {
    "collapsed": true
   },
   "outputs": [],
   "source": [
    "listdir = []\n",
    "listdir = glob2.glob(\"*.xls\")"
   ]
  },
  {
   "cell_type": "code",
   "execution_count": 5,
   "metadata": {
    "collapsed": false
   },
   "outputs": [
    {
     "name": "stdout",
     "output_type": "stream",
     "text": [
      "['word-stream-2.xls']\n"
     ]
    }
   ],
   "source": [
    "print(listdir)"
   ]
  },
  {
   "cell_type": "code",
   "execution_count": 6,
   "metadata": {
    "collapsed": true
   },
   "outputs": [],
   "source": [
    "import pandas as pd"
   ]
  },
  {
   "cell_type": "code",
   "execution_count": 7,
   "metadata": {
    "collapsed": false
   },
   "outputs": [],
   "source": [
    "text=pd.read_excel(listdir[0] )"
   ]
  },
  {
   "cell_type": "code",
   "execution_count": 8,
   "metadata": {
    "collapsed": true
   },
   "outputs": [],
   "source": [
    "data = pd.DataFrame(text)"
   ]
  },
  {
   "cell_type": "code",
   "execution_count": 9,
   "metadata": {
    "collapsed": false
   },
   "outputs": [
    {
     "data": {
      "text/plain": [
       "0               12356ghfhhfudhgjbb`\n",
       "1     6ogjlqlnsljnjhsogjlqlsujushlu\n",
       "2                            777vri\n",
       "3                            841815\n",
       "4                       AJ-FreeWiFi\n",
       "5                             Anay`\n",
       "6                            B3-404\n",
       "7                         B914-TUk1\n",
       "8                       black`apple\n",
       "9              CA-santoshkumardevri\n",
       "10                     CHHABRA-WiFi\n",
       "11                           D-Link\n",
       "12                      !dw$_Tb_o@&\n",
       "13                ejukxfujimx-a2adp\n",
       "14                         ElixirST\n",
       "15                        Elixirst1\n",
       "16               GoogleGuest-Legacy\n",
       "17                   GoogleGuestPSK\n",
       "18                         goyttfjz\n",
       "19                        GUESTWIFI\n",
       "20                   GW_IPC_3944417\n",
       "21                 HOTAL`NEELAM`1ST\n",
       "22                             isha\n",
       "23                    JioFi2_AAB718\n",
       "24                kdmxgwmlgmq-a2adp\n",
       "25                         kgbbn`hg\n",
       "26                kgkjhnfjbax-a2adp\n",
       "27                kngoiruxezx-a2adp\n",
       "28                          linksys\n",
       "29                        mibilenet\n",
       "30                        mobilenet\n",
       "31                    Mukesh`Jaggia\n",
       "32                          NOIDAWR\n",
       "33                       OLA`WIFI`1\n",
       "34                          pragyan\n",
       "35                        prashant1\n",
       "36                         railware\n",
       "37                      raj`krishna\n",
       "38                            SDRMN\n",
       "39                         sentinal\n",
       "40                         sentinel\n",
       "41                            Tanay\n",
       "42                           Tanay1\n",
       "43                Tata`Docomo`Wi-Fi\n",
       "44                     Tenda_0407D8\n",
       "45         The`Grand`Blossom`16A-5G\n",
       "46                        TIGERSDEN\n",
       "47                     TP-LINK_3166\n",
       "48                     TP-LINK_DFF8\n",
       "49                         velocity\n",
       "50                           WiPG-0\n",
       "51                      Xylem-Delhi\n",
       "52                      Xylem-Noida\n",
       "Name: WORD , dtype: object"
      ]
     },
     "execution_count": 9,
     "metadata": {},
     "output_type": "execute_result"
    }
   ],
   "source": [
    "data['WORD ']"
   ]
  },
  {
   "cell_type": "code",
   "execution_count": 10,
   "metadata": {
    "collapsed": false
   },
   "outputs": [
    {
     "data": {
      "text/plain": [
       "0               12356ghfhhfudhgjbb`\n",
       "1     6ogjlqlnsljnjhsogjlqlsujushlu\n",
       "2                            777vri\n",
       "3                            841815\n",
       "4                       AJ-FreeWiFi\n",
       "5                             Anay`\n",
       "6                            B3-404\n",
       "7                         B914-TUk1\n",
       "8                       black`apple\n",
       "9              CA-santoshkumardevri\n",
       "10                     CHHABRA-WiFi\n",
       "11                           D-Link\n",
       "12                      !dw$_Tb_o@&\n",
       "13                ejukxfujimx-a2adp\n",
       "14                         ElixirST\n",
       "15                        Elixirst1\n",
       "16               GoogleGuest-Legacy\n",
       "17                   GoogleGuestPSK\n",
       "18                         goyttfjz\n",
       "19                        GUESTWIFI\n",
       "20                   GW_IPC_3944417\n",
       "21                 HOTAL`NEELAM`1ST\n",
       "22                             isha\n",
       "23                    JioFi2_AAB718\n",
       "24                kdmxgwmlgmq-a2adp\n",
       "25                         kgbbn`hg\n",
       "26                kgkjhnfjbax-a2adp\n",
       "27                kngoiruxezx-a2adp\n",
       "28                          linksys\n",
       "29                        mibilenet\n",
       "30                        mobilenet\n",
       "31                    Mukesh`Jaggia\n",
       "32                          NOIDAWR\n",
       "33                       OLA`WIFI`1\n",
       "34                          pragyan\n",
       "35                        prashant1\n",
       "36                         railware\n",
       "37                      raj`krishna\n",
       "38                            SDRMN\n",
       "39                         sentinal\n",
       "40                         sentinel\n",
       "41                            Tanay\n",
       "42                           Tanay1\n",
       "43                Tata`Docomo`Wi-Fi\n",
       "44                     Tenda_0407D8\n",
       "45         The`Grand`Blossom`16A-5G\n",
       "46                        TIGERSDEN\n",
       "47                     TP-LINK_3166\n",
       "48                     TP-LINK_DFF8\n",
       "49                         velocity\n",
       "50                           WiPG-0\n",
       "51                      Xylem-Delhi\n",
       "52                      Xylem-Noida\n",
       "Name: WORD , dtype: object"
      ]
     },
     "execution_count": 10,
     "metadata": {},
     "output_type": "execute_result"
    }
   ],
   "source": [
    "data['WORD ']"
   ]
  },
  {
   "cell_type": "markdown",
   "metadata": {},
   "source": [
    "# Another solution"
   ]
  },
  {
   "cell_type": "code",
   "execution_count": 11,
   "metadata": {
    "collapsed": false
   },
   "outputs": [],
   "source": [
    "text = []\n",
    "y = data['WORD ']\n",
    "tokens = []\n",
    "for i in range(len(y)):\n",
    "    doc = y[i]\n",
    "    if type(doc) != int:\n",
    "        if doc.lower() not in stop_words:\n",
    "            sentence = wordpunct_tokenize(doc)\n",
    "            tokens.append(sentence)\n",
    "            for j in range(len(sentence)):\n",
    "                ken = sentence[j]\n",
    "                if ken not in stop_words:\n",
    "                    text.append(ken)"
   ]
  },
  {
   "cell_type": "code",
   "execution_count": 12,
   "metadata": {
    "collapsed": false
   },
   "outputs": [
    {
     "data": {
      "text/plain": [
       "[['12356ghfhhfudhgjbb', '`'],\n",
       " ['6ogjlqlnsljnjhsogjlqlsujushlu'],\n",
       " ['777vri'],\n",
       " ['AJ', '-', 'FreeWiFi'],\n",
       " ['Anay', '`'],\n",
       " ['B3', '-', '404'],\n",
       " ['B914', '-', 'TUk1'],\n",
       " ['black', '`', 'apple'],\n",
       " ['CA', '-', 'santoshkumardevri'],\n",
       " ['CHHABRA', '-', 'WiFi'],\n",
       " ['D', '-', 'Link'],\n",
       " ['!', 'dw', '$', '_Tb_o', '@&'],\n",
       " ['ejukxfujimx', '-', 'a2adp'],\n",
       " ['ElixirST'],\n",
       " ['Elixirst1'],\n",
       " ['GoogleGuest', '-', 'Legacy'],\n",
       " ['GoogleGuestPSK'],\n",
       " ['goyttfjz'],\n",
       " ['GUESTWIFI'],\n",
       " ['GW_IPC_3944417'],\n",
       " ['HOTAL', '`', 'NEELAM', '`', '1ST'],\n",
       " ['isha'],\n",
       " ['JioFi2_AAB718'],\n",
       " ['kdmxgwmlgmq', '-', 'a2adp'],\n",
       " ['kgbbn', '`', 'hg'],\n",
       " ['kgkjhnfjbax', '-', 'a2adp'],\n",
       " ['kngoiruxezx', '-', 'a2adp'],\n",
       " ['linksys'],\n",
       " ['mibilenet'],\n",
       " ['mobilenet'],\n",
       " ['Mukesh', '`', 'Jaggia'],\n",
       " ['NOIDAWR'],\n",
       " ['OLA', '`', 'WIFI', '`', '1'],\n",
       " ['pragyan'],\n",
       " ['prashant1'],\n",
       " ['railware'],\n",
       " ['raj', '`', 'krishna'],\n",
       " ['SDRMN'],\n",
       " ['sentinal'],\n",
       " ['sentinel'],\n",
       " ['Tanay'],\n",
       " ['Tanay1'],\n",
       " ['Tata', '`', 'Docomo', '`', 'Wi', '-', 'Fi'],\n",
       " ['Tenda_0407D8'],\n",
       " ['The', '`', 'Grand', '`', 'Blossom', '`', '16A', '-', '5G'],\n",
       " ['TIGERSDEN'],\n",
       " ['TP', '-', 'LINK_3166'],\n",
       " ['TP', '-', 'LINK_DFF8'],\n",
       " ['velocity'],\n",
       " ['WiPG', '-', '0'],\n",
       " ['Xylem', '-', 'Delhi'],\n",
       " ['Xylem', '-', 'Noida']]"
      ]
     },
     "execution_count": 12,
     "metadata": {},
     "output_type": "execute_result"
    }
   ],
   "source": [
    "tokens"
   ]
  },
  {
   "cell_type": "code",
   "execution_count": 74,
   "metadata": {
    "collapsed": false
   },
   "outputs": [
    {
     "name": "stdout",
     "output_type": "stream",
     "text": [
      "12356ghfhhfudhgjbb\n",
      "6ogjlqlnsljnjhsogjlqlsujushlu\n",
      "777vri\n",
      "AJ\n",
      "FreeWiFi\n",
      "Anay\n",
      "B3\n",
      "404\n",
      "B914\n",
      "TUk1\n",
      "black\n",
      "apple\n",
      "CA\n",
      "santoshkumardevri\n",
      "CHHABRA\n",
      "WiFi\n",
      "D\n",
      "Link\n",
      "dw\n",
      "_Tb_o\n",
      "@&\n",
      "ejukxfujimx\n",
      "a2adp\n",
      "ElixirST\n",
      "Elixirst1\n",
      "GoogleGuest\n",
      "Legacy\n",
      "GoogleGuestPSK\n",
      "goyttfjz\n",
      "GUESTWIFI\n",
      "GW_IPC_3944417\n",
      "HOTAL\n",
      "NEELAM\n",
      "1ST\n",
      "isha\n",
      "JioFi2_AAB718\n",
      "kdmxgwmlgmq\n",
      "a2adp\n",
      "kgbbn\n",
      "hg\n",
      "kgkjhnfjbax\n",
      "a2adp\n",
      "kngoiruxezx\n",
      "a2adp\n",
      "linksys\n",
      "mibilenet\n",
      "mobilenet\n",
      "Mukesh\n",
      "Jaggia\n",
      "NOIDAWR\n",
      "OLA\n",
      "WIFI\n",
      "1\n",
      "pragyan\n",
      "prashant1\n",
      "railware\n",
      "raj\n",
      "krishna\n",
      "SDRMN\n",
      "sentinal\n",
      "sentinel\n",
      "Tanay\n",
      "Tanay1\n",
      "Tata\n",
      "Docomo\n",
      "Wi\n",
      "Fi\n",
      "Tenda_0407D8\n",
      "The\n",
      "Grand\n",
      "Blossom\n",
      "16A\n",
      "5G\n",
      "TIGERSDEN\n",
      "TP\n",
      "LINK_3166\n",
      "TP\n",
      "LINK_DFF8\n",
      "velocity\n",
      "WiPG\n",
      "0\n",
      "Xylem\n",
      "Delhi\n",
      "Xylem\n",
      "Noida\n"
     ]
    }
   ],
   "source": [
    "for toks in range(len(tokens)):\n",
    "    dum = tokens[toks]\n",
    "    for k in range(len(dum)):\n",
    "        tec = dum[k]\n",
    "        print(tec)\n",
    "        if tec in stop_words:\n",
    "                dum.remove(tec)"
   ]
  },
  {
   "cell_type": "markdown",
   "metadata": {},
   "source": [
    "# Which cleaning is better #1 or #2"
   ]
  },
  {
   "cell_type": "markdown",
   "metadata": {},
   "source": [
    "# clean_text#1"
   ]
  },
  {
   "cell_type": "code",
   "execution_count": 75,
   "metadata": {
    "collapsed": false
   },
   "outputs": [],
   "source": [
    "def extract_entities(text):\n",
    "    for chunk in nltk.ne_chunk(nltk.pos_tag(text)):\n",
    "            if hasattr(chunk, 'label'):\n",
    "                print(chunk.label(), ' '.join(c[0] for c in chunk.leaves()))"
   ]
  },
  {
   "cell_type": "markdown",
   "metadata": {},
   "source": [
    "# Cleaning as asked for"
   ]
  },
  {
   "cell_type": "code",
   "execution_count": 76,
   "metadata": {
    "collapsed": false
   },
   "outputs": [
    {
     "data": {
      "text/plain": [
       "[['12356ghfhhfudhgjbb'],\n",
       " ['6ogjlqlnsljnjhsogjlqlsujushlu'],\n",
       " ['777vri'],\n",
       " ['AJ', 'FreeWiFi'],\n",
       " ['Anay'],\n",
       " ['B3', '404'],\n",
       " ['B914', 'TUk1'],\n",
       " ['black', 'apple'],\n",
       " ['CA', 'santoshkumardevri'],\n",
       " ['CHHABRA', 'WiFi'],\n",
       " ['D', 'Link'],\n",
       " ['dw', '_Tb_o', '@&'],\n",
       " ['ejukxfujimx', 'a2adp'],\n",
       " ['ElixirST'],\n",
       " ['Elixirst1'],\n",
       " ['GoogleGuest', 'Legacy'],\n",
       " ['GoogleGuestPSK'],\n",
       " ['goyttfjz'],\n",
       " ['GUESTWIFI'],\n",
       " ['GW_IPC_3944417'],\n",
       " ['HOTAL', 'NEELAM', '1ST'],\n",
       " ['isha'],\n",
       " ['JioFi2_AAB718'],\n",
       " ['kdmxgwmlgmq', 'a2adp'],\n",
       " ['kgbbn', 'hg'],\n",
       " ['kgkjhnfjbax', 'a2adp'],\n",
       " ['kngoiruxezx', 'a2adp'],\n",
       " ['linksys'],\n",
       " ['mibilenet'],\n",
       " ['mobilenet'],\n",
       " ['Mukesh', 'Jaggia'],\n",
       " ['NOIDAWR'],\n",
       " ['OLA', 'WIFI', '1'],\n",
       " ['pragyan'],\n",
       " ['prashant1'],\n",
       " ['railware'],\n",
       " ['raj', 'krishna'],\n",
       " ['SDRMN'],\n",
       " ['sentinal'],\n",
       " ['sentinel'],\n",
       " ['Tanay'],\n",
       " ['Tanay1'],\n",
       " ['Tata', 'Docomo', 'Wi', 'Fi'],\n",
       " ['Tenda_0407D8'],\n",
       " ['The', 'Grand', 'Blossom', '16A', '5G'],\n",
       " ['TIGERSDEN'],\n",
       " ['TP', 'LINK_3166'],\n",
       " ['TP', 'LINK_DFF8'],\n",
       " ['velocity'],\n",
       " ['WiPG', '0'],\n",
       " ['Xylem', 'Delhi'],\n",
       " ['Xylem', 'Noida']]"
      ]
     },
     "execution_count": 76,
     "metadata": {},
     "output_type": "execute_result"
    }
   ],
   "source": [
    "tokens"
   ]
  },
  {
   "cell_type": "markdown",
   "metadata": {},
   "source": [
    "# Results not much expected but maybe better"
   ]
  },
  {
   "cell_type": "code",
   "execution_count": 77,
   "metadata": {
    "collapsed": false
   },
   "outputs": [
    {
     "name": "stdout",
     "output_type": "stream",
     "text": [
      "GPE Anay\n",
      "PERSON B914\n",
      "ORGANIZATION TUk1\n",
      "ORGANIZATION CHHABRA\n",
      "ORGANIZATION WiFi\n",
      "ORGANIZATION ElixirST\n",
      "GPE Elixirst1\n",
      "GPE GoogleGuest\n",
      "ORGANIZATION GoogleGuestPSK\n",
      "ORGANIZATION GW_IPC_3944417\n",
      "ORGANIZATION HOTAL\n",
      "PERSON Mukesh\n",
      "ORGANIZATION Jaggia\n",
      "ORGANIZATION NOIDAWR\n",
      "ORGANIZATION OLA\n",
      "GPE SDRMN\n",
      "GPE Tanay\n",
      "GPE Tanay1\n",
      "PERSON Tata\n",
      "PERSON Docomo Wi Fi\n",
      "GPE Tenda_0407D8\n",
      "FACILITY Grand Blossom\n",
      "ORGANIZATION TIGERSDEN\n",
      "PERSON Xylem Delhi\n",
      "PERSON Xylem Noida\n"
     ]
    }
   ],
   "source": [
    "result = []\n",
    "for toks in tokens:\n",
    "    extract_entities(toks)"
   ]
  },
  {
   "cell_type": "markdown",
   "metadata": {},
   "source": [
    "# Concatenation of tuples to make a string as Ex: CA santoshkumardevri"
   ]
  },
  {
   "cell_type": "code",
   "execution_count": 78,
   "metadata": {
    "collapsed": false
   },
   "outputs": [],
   "source": [
    "word_list = []\n",
    "for toks in tokens:\n",
    "    zecs = \" \".join([str(i) for i in toks])\n",
    "    word_list.append(zecs)"
   ]
  },
  {
   "cell_type": "code",
   "execution_count": 79,
   "metadata": {
    "collapsed": false
   },
   "outputs": [
    {
     "data": {
      "text/plain": [
       "['12356ghfhhfudhgjbb',\n",
       " '6ogjlqlnsljnjhsogjlqlsujushlu',\n",
       " '777vri',\n",
       " 'AJ FreeWiFi',\n",
       " 'Anay',\n",
       " 'B3 404',\n",
       " 'B914 TUk1',\n",
       " 'black apple',\n",
       " 'CA santoshkumardevri',\n",
       " 'CHHABRA WiFi',\n",
       " 'D Link',\n",
       " 'dw _Tb_o @&',\n",
       " 'ejukxfujimx a2adp',\n",
       " 'ElixirST',\n",
       " 'Elixirst1',\n",
       " 'GoogleGuest Legacy',\n",
       " 'GoogleGuestPSK',\n",
       " 'goyttfjz',\n",
       " 'GUESTWIFI',\n",
       " 'GW_IPC_3944417',\n",
       " 'HOTAL NEELAM 1ST',\n",
       " 'isha',\n",
       " 'JioFi2_AAB718',\n",
       " 'kdmxgwmlgmq a2adp',\n",
       " 'kgbbn hg',\n",
       " 'kgkjhnfjbax a2adp',\n",
       " 'kngoiruxezx a2adp',\n",
       " 'linksys',\n",
       " 'mibilenet',\n",
       " 'mobilenet',\n",
       " 'Mukesh Jaggia',\n",
       " 'NOIDAWR',\n",
       " 'OLA WIFI 1',\n",
       " 'pragyan',\n",
       " 'prashant1',\n",
       " 'railware',\n",
       " 'raj krishna',\n",
       " 'SDRMN',\n",
       " 'sentinal',\n",
       " 'sentinel',\n",
       " 'Tanay',\n",
       " 'Tanay1',\n",
       " 'Tata Docomo Wi Fi',\n",
       " 'Tenda_0407D8',\n",
       " 'The Grand Blossom 16A 5G',\n",
       " 'TIGERSDEN',\n",
       " 'TP LINK_3166',\n",
       " 'TP LINK_DFF8',\n",
       " 'velocity',\n",
       " 'WiPG 0',\n",
       " 'Xylem Delhi',\n",
       " 'Xylem Noida']"
      ]
     },
     "execution_count": 79,
     "metadata": {},
     "output_type": "execute_result"
    }
   ],
   "source": [
    "word_list"
   ]
  },
  {
   "cell_type": "markdown",
   "metadata": {},
   "source": [
    "# Results are efficient and meaningful i think"
   ]
  },
  {
   "cell_type": "code",
   "execution_count": 80,
   "metadata": {
    "collapsed": false
   },
   "outputs": [
    {
     "name": "stdout",
     "output_type": "stream",
     "text": [
      "ORGANIZATION ElixirST Elixirst1\n",
      "ORGANIZATION GUESTWIFI\n",
      "ORGANIZATION JioFi2_AAB718\n",
      "ORGANIZATION SDRMN\n",
      "PERSON Tanay Tanay1\n"
     ]
    }
   ],
   "source": [
    "extract_entities(word_list)"
   ]
  },
  {
   "cell_type": "markdown",
   "metadata": {},
   "source": [
    "# clean_text#2"
   ]
  },
  {
   "cell_type": "code",
   "execution_count": 81,
   "metadata": {
    "collapsed": false
   },
   "outputs": [
    {
     "data": {
      "text/plain": [
       "['12356ghfhhfudhgjbb',\n",
       " '6ogjlqlnsljnjhsogjlqlsujushlu',\n",
       " '777vri',\n",
       " 'AJ',\n",
       " 'FreeWiFi',\n",
       " 'Anay',\n",
       " 'B3',\n",
       " '404',\n",
       " 'B914',\n",
       " 'TUk1',\n",
       " 'black',\n",
       " 'apple',\n",
       " 'CA',\n",
       " 'santoshkumardevri',\n",
       " 'CHHABRA',\n",
       " 'WiFi',\n",
       " 'D',\n",
       " 'Link',\n",
       " 'dw',\n",
       " '_Tb_o',\n",
       " '@&',\n",
       " 'ejukxfujimx',\n",
       " 'a2adp',\n",
       " 'ElixirST',\n",
       " 'Elixirst1',\n",
       " 'GoogleGuest',\n",
       " 'Legacy',\n",
       " 'GoogleGuestPSK',\n",
       " 'goyttfjz',\n",
       " 'GUESTWIFI',\n",
       " 'GW_IPC_3944417',\n",
       " 'HOTAL',\n",
       " 'NEELAM',\n",
       " '1ST',\n",
       " 'isha',\n",
       " 'JioFi2_AAB718',\n",
       " 'kdmxgwmlgmq',\n",
       " 'a2adp',\n",
       " 'kgbbn',\n",
       " 'hg',\n",
       " 'kgkjhnfjbax',\n",
       " 'a2adp',\n",
       " 'kngoiruxezx',\n",
       " 'a2adp',\n",
       " 'linksys',\n",
       " 'mibilenet',\n",
       " 'mobilenet',\n",
       " 'Mukesh',\n",
       " 'Jaggia',\n",
       " 'NOIDAWR',\n",
       " 'OLA',\n",
       " 'WIFI',\n",
       " '1',\n",
       " 'pragyan',\n",
       " 'prashant1',\n",
       " 'railware',\n",
       " 'raj',\n",
       " 'krishna',\n",
       " 'SDRMN',\n",
       " 'sentinal',\n",
       " 'sentinel',\n",
       " 'Tanay',\n",
       " 'Tanay1',\n",
       " 'Tata',\n",
       " 'Docomo',\n",
       " 'Wi',\n",
       " 'Fi',\n",
       " 'Tenda_0407D8',\n",
       " 'The',\n",
       " 'Grand',\n",
       " 'Blossom',\n",
       " '16A',\n",
       " '5G',\n",
       " 'TIGERSDEN',\n",
       " 'TP',\n",
       " 'LINK_3166',\n",
       " 'TP',\n",
       " 'LINK_DFF8',\n",
       " 'velocity',\n",
       " 'WiPG',\n",
       " '0',\n",
       " 'Xylem',\n",
       " 'Delhi',\n",
       " 'Xylem',\n",
       " 'Noida']"
      ]
     },
     "execution_count": 81,
     "metadata": {},
     "output_type": "execute_result"
    }
   ],
   "source": [
    "text"
   ]
  },
  {
   "cell_type": "code",
   "execution_count": 82,
   "metadata": {
    "collapsed": false
   },
   "outputs": [
    {
     "name": "stdout",
     "output_type": "stream",
     "text": [
      "ORGANIZATION CHHABRA\n",
      "ORGANIZATION _Tb_o\n",
      "ORGANIZATION ElixirST Elixirst1\n",
      "ORGANIZATION GUESTWIFI\n",
      "ORGANIZATION HOTAL\n",
      "ORGANIZATION JioFi2_AAB718\n",
      "PERSON Mukesh Jaggia\n",
      "ORGANIZATION NOIDAWR\n",
      "ORGANIZATION SDRMN\n",
      "PERSON Tanay Tanay1 Tata Docomo Wi Fi\n",
      "FACILITY Grand Blossom\n",
      "ORGANIZATION TIGERSDEN\n",
      "PERSON Xylem Delhi Xylem Noida\n"
     ]
    }
   ],
   "source": [
    "result = []\n",
    "extract_entities(text)"
   ]
  },
  {
   "cell_type": "markdown",
   "metadata": {},
   "source": [
    "# Wigle Api Access"
   ]
  },
  {
   "cell_type": "code",
   "execution_count": 83,
   "metadata": {
    "collapsed": false
   },
   "outputs": [],
   "source": [
    "from pygle import network"
   ]
  },
  {
   "cell_type": "code",
   "execution_count": 84,
   "metadata": {
    "collapsed": false
   },
   "outputs": [
    {
     "data": {
      "text/plain": [
       "{'results': [{'address': {'city': 'Delhi',\n",
       "    'country': 'India',\n",
       "    'country_code': 'in',\n",
       "    'county': 'Central Delhi',\n",
       "    'state': 'Delhi'},\n",
       "   'boundingbox': [28.4917178, 28.8117178, 77.0619388, 77.3819388],\n",
       "   'display_name': 'Delhi, Central Delhi, Delhi, India',\n",
       "   'importance': 0.79884142407202,\n",
       "   'lat': 28.6517178,\n",
       "   'licence': 'Data © OpenStreetMap contributors, ODbL 1.0. http://www.openstreetmap.org/copyright',\n",
       "   'lon': 77.2219388,\n",
       "   'osm_type': 'node',\n",
       "   'place_id': 29023641}],\n",
       " 'success': True}"
      ]
     },
     "execution_count": 84,
     "metadata": {},
     "output_type": "execute_result"
    }
   ],
   "source": [
    "network.geocode(addresscode=\"Delhi\")"
   ]
  },
  {
   "cell_type": "code",
   "execution_count": 85,
   "metadata": {
    "collapsed": false
   },
   "outputs": [
    {
     "name": "stdout",
     "output_type": "stream",
     "text": [
      "WiGLE\n",
      "BSSID: 08:bd:43:65:e8:90\n",
      "{'success': False, 'message': 'too many queries today'}\n",
      "BSSID: 28:6f:7f:34:7b:a1\n",
      "{'success': False, 'message': 'too many queries today'}\n",
      "BSSID: 32:f7:72:31:b3:c9\n",
      "{'success': False, 'message': 'too many queries today'}\n",
      "BSSID: 00:62:ec:81:14:a0\n",
      "{'success': False, 'message': 'too many queries today'}\n",
      "BSSID: 28:6f:7f:34:7b:a2\n",
      "{'success': False, 'message': 'too many queries today'}\n",
      "BSSID: 00:62:ec:81:14:a1\n",
      "{'success': False, 'message': 'too many queries today'}\n",
      "BSSID: 28:6f:7f:34:7b:a0\n",
      "{'success': False, 'message': 'too many queries today'}\n",
      "No geolocation possible\n"
     ]
    }
   ],
   "source": [
    "\"\"\"\n",
    "Sniff local WiFi networks in order to look them up on WiGLE.\n",
    "\n",
    "\"\"\"\n",
    "from __future__ import absolute_import\n",
    "from __future__ import division\n",
    "from __future__ import print_function\n",
    "from __future__ import unicode_literals\n",
    "\n",
    "from platform import system\n",
    "import re\n",
    "import subprocess\n",
    "import time\n",
    "\n",
    "import requests\n",
    "\n",
    "from pygle import network\n",
    "\n",
    "\n",
    "scan_cmd = {'windows': 'netsh wlan show networks mode=Bssid', \n",
    "            'linux': 'nmcli -t -f bssid dev wifi list',  # untested\n",
    "            'osx': '/System/Library/PrivateFrameworks/Apple80211.framework/Versions/Current/Resources/airport -s',  # untested\n",
    "            }\n",
    "\n",
    "\n",
    "def local_bssids():\n",
    "    \"\"\"Get a list of available wireless access points.\n",
    "    \"\"\"\n",
    "    res = subprocess.check_output(scan_cmd[system().lower()],\n",
    "                                  universal_newlines=True)\n",
    "    pattern = re.compile(r'(?:[0-9a-fA-F]:?){12}')\n",
    "    bssids = pattern.findall(res)\n",
    "    return set(bssids)\n",
    "\n",
    "\n",
    "def geolocate():\n",
    "    \"\"\"Locate a device using locally available wireless access points.\n",
    "    \"\"\"\n",
    "    lats = []\n",
    "    longs = []\n",
    "    for bssid in local_bssids():\n",
    "        print(\"BSSID:\", bssid)\n",
    "        lat, lng = geolocate_wigle(bssid)  # can be replaced with other geocoding sources\n",
    "        if lat and lng:\n",
    "            lats.append(lat)\n",
    "            longs.append(lng)\n",
    "        time.sleep(0.1)\n",
    "    if lats and longs:\n",
    "        lat = sum(lats) / len(lats)\n",
    "        lng = sum(longs) / len(longs)\n",
    "        return lat, lng\n",
    "    else:\n",
    "        return \"No geolocation possible\"\n",
    "\n",
    "\n",
    "def geolocate_wigle(bssid):\n",
    "    \"\"\"Search WiGLE for a BSSID and return lat/lng.\n",
    "    \"\"\"\n",
    "    res = network.search(netid=bssid)\n",
    "    if res['success'] and res['resultCount']:\n",
    "        lat = res['results'][0]['trilat']\n",
    "        lng = res['results'][0]['trilong']\n",
    "    else:\n",
    "        print(res)\n",
    "        lat, lng = None, None\n",
    "    return lat, lng\n",
    "\n",
    "\n",
    "if __name__ == \"__main__\":\n",
    "    print(\"WiGLE\")\n",
    "    print(geolocate())"
   ]
  }
 ],
 "metadata": {
  "kernelspec": {
   "display_name": "Python 3",
   "language": "python",
   "name": "python3"
  },
  "language_info": {
   "codemirror_mode": {
    "name": "ipython",
    "version": 3
   },
   "file_extension": ".py",
   "mimetype": "text/x-python",
   "name": "python",
   "nbconvert_exporter": "python",
   "pygments_lexer": "ipython3",
   "version": "3.6.0"
  }
 },
 "nbformat": 4,
 "nbformat_minor": 2
}
